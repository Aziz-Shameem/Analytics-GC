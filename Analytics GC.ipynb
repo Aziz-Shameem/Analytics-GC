{
 "cells": [
  {
   "cell_type": "code",
   "execution_count": 151,
   "id": "8b20695c",
   "metadata": {},
   "outputs": [],
   "source": [
    "import pandas as pd\n",
    "import numpy as np\n",
    "import pickle\n",
    "import matplotlib.pyplot as plt\n",
    "from sklearn.linear_model import LogisticRegression as lgr\n",
    "from sklearn.model_selection import train_test_split\n",
    "from sklearn.preprocessing import StandardScaler\n",
    "from sklearn.ensemble import RandomForestClassifier as rfc\n",
    "from sklearn.ensemble import GradientBoostingClassifier as gbc"
   ]
  },
  {
   "cell_type": "code",
   "execution_count": 38,
   "id": "72358441",
   "metadata": {},
   "outputs": [],
   "source": [
    "def sigmoid(x) :\n",
    "    return 1/(1 + np.exp(-x))"
   ]
  },
  {
   "cell_type": "code",
   "execution_count": 2,
   "id": "04e603aa",
   "metadata": {},
   "outputs": [
    {
     "data": {
      "text/html": [
       "<div>\n",
       "<style scoped>\n",
       "    .dataframe tbody tr th:only-of-type {\n",
       "        vertical-align: middle;\n",
       "    }\n",
       "\n",
       "    .dataframe tbody tr th {\n",
       "        vertical-align: top;\n",
       "    }\n",
       "\n",
       "    .dataframe thead th {\n",
       "        text-align: right;\n",
       "    }\n",
       "</style>\n",
       "<table border=\"1\" class=\"dataframe\">\n",
       "  <thead>\n",
       "    <tr style=\"text-align: right;\">\n",
       "      <th></th>\n",
       "      <th>y</th>\n",
       "      <th>x1</th>\n",
       "      <th>x2</th>\n",
       "      <th>x3</th>\n",
       "      <th>x4</th>\n",
       "    </tr>\n",
       "  </thead>\n",
       "  <tbody>\n",
       "    <tr>\n",
       "      <th>0</th>\n",
       "      <td>0</td>\n",
       "      <td>3861.22</td>\n",
       "      <td>3861.66</td>\n",
       "      <td>3860.75</td>\n",
       "      <td>3861.38</td>\n",
       "    </tr>\n",
       "    <tr>\n",
       "      <th>1</th>\n",
       "      <td>0</td>\n",
       "      <td>3861.19</td>\n",
       "      <td>3861.38</td>\n",
       "      <td>3860.16</td>\n",
       "      <td>3861.25</td>\n",
       "    </tr>\n",
       "    <tr>\n",
       "      <th>2</th>\n",
       "      <td>0</td>\n",
       "      <td>3861.38</td>\n",
       "      <td>3861.38</td>\n",
       "      <td>3858.47</td>\n",
       "      <td>3858.53</td>\n",
       "    </tr>\n",
       "    <tr>\n",
       "      <th>3</th>\n",
       "      <td>1</td>\n",
       "      <td>3858.72</td>\n",
       "      <td>3858.72</td>\n",
       "      <td>3857.03</td>\n",
       "      <td>3858.19</td>\n",
       "    </tr>\n",
       "    <tr>\n",
       "      <th>4</th>\n",
       "      <td>1</td>\n",
       "      <td>3858.09</td>\n",
       "      <td>3859.16</td>\n",
       "      <td>3858.03</td>\n",
       "      <td>3858.81</td>\n",
       "    </tr>\n",
       "  </tbody>\n",
       "</table>\n",
       "</div>"
      ],
      "text/plain": [
       "   y       x1       x2       x3       x4\n",
       "0  0  3861.22  3861.66  3860.75  3861.38\n",
       "1  0  3861.19  3861.38  3860.16  3861.25\n",
       "2  0  3861.38  3861.38  3858.47  3858.53\n",
       "3  1  3858.72  3858.72  3857.03  3858.19\n",
       "4  1  3858.09  3859.16  3858.03  3858.81"
      ]
     },
     "execution_count": 2,
     "metadata": {},
     "output_type": "execute_result"
    }
   ],
   "source": [
    "h = pd.read_csv(r'C:\\Users\\Aziz_Shameem\\Downloads\\analgc.csv')\n",
    "h.head()"
   ]
  },
  {
   "cell_type": "code",
   "execution_count": 3,
   "id": "e408e0e6",
   "metadata": {
    "scrolled": true
   },
   "outputs": [
    {
     "data": {
      "text/plain": [
       "10000"
      ]
     },
     "execution_count": 3,
     "metadata": {},
     "output_type": "execute_result"
    }
   ],
   "source": [
    "len(h)"
   ]
  },
  {
   "cell_type": "code",
   "execution_count": 4,
   "id": "354130a0",
   "metadata": {},
   "outputs": [],
   "source": [
    "X = h.iloc[:,1:]\n",
    "y = h.iloc[:,0]"
   ]
  },
  {
   "cell_type": "markdown",
   "id": "9bffbb2a",
   "metadata": {},
   "source": [
    "## Logistic Regression(without scaling)"
   ]
  },
  {
   "cell_type": "code",
   "execution_count": 5,
   "id": "4a8b3732",
   "metadata": {},
   "outputs": [],
   "source": [
    "X_train, X_test, y_train, y_test = train_test_split(X, y, test_size=0.2)"
   ]
  },
  {
   "cell_type": "code",
   "execution_count": 6,
   "id": "52926399",
   "metadata": {},
   "outputs": [
    {
     "data": {
      "text/plain": [
       "0.541375"
      ]
     },
     "execution_count": 6,
     "metadata": {},
     "output_type": "execute_result"
    }
   ],
   "source": [
    "model = lgr().fit(X_train, y_train)\n",
    "model.score(X_train, y_train)"
   ]
  },
  {
   "cell_type": "code",
   "execution_count": 7,
   "id": "7afb7582",
   "metadata": {
    "scrolled": true
   },
   "outputs": [
    {
     "data": {
      "text/plain": [
       "0.5225"
      ]
     },
     "execution_count": 7,
     "metadata": {},
     "output_type": "execute_result"
    }
   ],
   "source": [
    "model.score(X_test, y_test)"
   ]
  },
  {
   "cell_type": "code",
   "execution_count": 9,
   "id": "dc4f4d22",
   "metadata": {},
   "outputs": [
    {
     "data": {
      "text/html": [
       "<div>\n",
       "<style scoped>\n",
       "    .dataframe tbody tr th:only-of-type {\n",
       "        vertical-align: middle;\n",
       "    }\n",
       "\n",
       "    .dataframe tbody tr th {\n",
       "        vertical-align: top;\n",
       "    }\n",
       "\n",
       "    .dataframe thead th {\n",
       "        text-align: right;\n",
       "    }\n",
       "</style>\n",
       "<table border=\"1\" class=\"dataframe\">\n",
       "  <thead>\n",
       "    <tr style=\"text-align: right;\">\n",
       "      <th></th>\n",
       "      <th>Actual</th>\n",
       "      <th>Prediction</th>\n",
       "    </tr>\n",
       "  </thead>\n",
       "  <tbody>\n",
       "    <tr>\n",
       "      <th>0</th>\n",
       "      <td>0</td>\n",
       "      <td>1</td>\n",
       "    </tr>\n",
       "    <tr>\n",
       "      <th>1</th>\n",
       "      <td>0</td>\n",
       "      <td>1</td>\n",
       "    </tr>\n",
       "    <tr>\n",
       "      <th>2</th>\n",
       "      <td>1</td>\n",
       "      <td>1</td>\n",
       "    </tr>\n",
       "    <tr>\n",
       "      <th>3</th>\n",
       "      <td>0</td>\n",
       "      <td>0</td>\n",
       "    </tr>\n",
       "    <tr>\n",
       "      <th>4</th>\n",
       "      <td>0</td>\n",
       "      <td>0</td>\n",
       "    </tr>\n",
       "    <tr>\n",
       "      <th>...</th>\n",
       "      <td>...</td>\n",
       "      <td>...</td>\n",
       "    </tr>\n",
       "    <tr>\n",
       "      <th>1995</th>\n",
       "      <td>1</td>\n",
       "      <td>0</td>\n",
       "    </tr>\n",
       "    <tr>\n",
       "      <th>1996</th>\n",
       "      <td>1</td>\n",
       "      <td>1</td>\n",
       "    </tr>\n",
       "    <tr>\n",
       "      <th>1997</th>\n",
       "      <td>0</td>\n",
       "      <td>0</td>\n",
       "    </tr>\n",
       "    <tr>\n",
       "      <th>1998</th>\n",
       "      <td>0</td>\n",
       "      <td>1</td>\n",
       "    </tr>\n",
       "    <tr>\n",
       "      <th>1999</th>\n",
       "      <td>0</td>\n",
       "      <td>0</td>\n",
       "    </tr>\n",
       "  </tbody>\n",
       "</table>\n",
       "<p>2000 rows × 2 columns</p>\n",
       "</div>"
      ],
      "text/plain": [
       "      Actual  Prediction\n",
       "0          0           1\n",
       "1          0           1\n",
       "2          1           1\n",
       "3          0           0\n",
       "4          0           0\n",
       "...      ...         ...\n",
       "1995       1           0\n",
       "1996       1           1\n",
       "1997       0           0\n",
       "1998       0           1\n",
       "1999       0           0\n",
       "\n",
       "[2000 rows x 2 columns]"
      ]
     },
     "execution_count": 9,
     "metadata": {},
     "output_type": "execute_result"
    }
   ],
   "source": [
    "pred = model.predict(X_test)\n",
    "data = [[list(y_test)[i], pred[i]] for i in range(len(pred))]\n",
    "output = pd.DataFrame(data, columns = ['Actual','Prediction'])\n",
    "output"
   ]
  },
  {
   "cell_type": "code",
   "execution_count": 10,
   "id": "79b8d27c",
   "metadata": {},
   "outputs": [
    {
     "data": {
      "text/plain": [
       "52.25"
      ]
     },
     "execution_count": 10,
     "metadata": {},
     "output_type": "execute_result"
    }
   ],
   "source": [
    "test_accuracy = 100*(len(output[output['Actual']==output['Prediction']]))/(len(output))\n",
    "test_accuracy"
   ]
  },
  {
   "cell_type": "code",
   "execution_count": 11,
   "id": "0023505f",
   "metadata": {},
   "outputs": [
    {
     "data": {
      "text/plain": [
       "54.1375"
      ]
     },
     "execution_count": 11,
     "metadata": {},
     "output_type": "execute_result"
    }
   ],
   "source": [
    "pred2 = model.predict(X_train)\n",
    "data2 = [[list(y_train)[i], pred2[i]] for i in range(len(pred2))]\n",
    "output2 = pd.DataFrame(data2, columns = ['Actual','Prediction'])\n",
    "train_accuracy = 100*(len(output2[output2['Actual']==output2['Prediction']]))/(len(output2))\n",
    "train_accuracy"
   ]
  },
  {
   "cell_type": "code",
   "execution_count": 47,
   "id": "5c83e546",
   "metadata": {},
   "outputs": [
    {
     "data": {
      "text/plain": [
       "array([[-0.10826163, -0.02160049,  0.0106708 ,  0.11920181]])"
      ]
     },
     "execution_count": 47,
     "metadata": {},
     "output_type": "execute_result"
    }
   ],
   "source": [
    "w = model.coef_\n",
    "w"
   ]
  },
  {
   "cell_type": "code",
   "execution_count": 48,
   "id": "f2aea423",
   "metadata": {},
   "outputs": [
    {
     "data": {
      "text/plain": [
       "array([0.00063614])"
      ]
     },
     "execution_count": 48,
     "metadata": {},
     "output_type": "execute_result"
    }
   ],
   "source": [
    "b = model.intercept_\n",
    "b"
   ]
  },
  {
   "cell_type": "code",
   "execution_count": 72,
   "id": "1c3e482a",
   "metadata": {},
   "outputs": [],
   "source": [
    "result = []\n",
    "for ind in range(len(X_test)) :\n",
    "    row = np.dot(np.array(X_test.iloc[ind,:]), np.array(w.transpose()))\n",
    "    result.append(sigmoid(b + row))"
   ]
  },
  {
   "cell_type": "code",
   "execution_count": 73,
   "id": "3bbc9904",
   "metadata": {
    "scrolled": true
   },
   "outputs": [
    {
     "data": {
      "text/html": [
       "<div>\n",
       "<style scoped>\n",
       "    .dataframe tbody tr th:only-of-type {\n",
       "        vertical-align: middle;\n",
       "    }\n",
       "\n",
       "    .dataframe tbody tr th {\n",
       "        vertical-align: top;\n",
       "    }\n",
       "\n",
       "    .dataframe thead th {\n",
       "        text-align: right;\n",
       "    }\n",
       "</style>\n",
       "<table border=\"1\" class=\"dataframe\">\n",
       "  <thead>\n",
       "    <tr style=\"text-align: right;\">\n",
       "      <th></th>\n",
       "      <th>Actual</th>\n",
       "      <th>Prediction</th>\n",
       "      <th>Result</th>\n",
       "    </tr>\n",
       "  </thead>\n",
       "  <tbody>\n",
       "    <tr>\n",
       "      <th>0</th>\n",
       "      <td>0</td>\n",
       "      <td>1</td>\n",
       "      <td>[0.531697769448731]</td>\n",
       "    </tr>\n",
       "    <tr>\n",
       "      <th>1</th>\n",
       "      <td>0</td>\n",
       "      <td>1</td>\n",
       "      <td>[0.5340514437302829]</td>\n",
       "    </tr>\n",
       "    <tr>\n",
       "      <th>2</th>\n",
       "      <td>1</td>\n",
       "      <td>1</td>\n",
       "      <td>[0.5186724718321121]</td>\n",
       "    </tr>\n",
       "    <tr>\n",
       "      <th>3</th>\n",
       "      <td>0</td>\n",
       "      <td>0</td>\n",
       "      <td>[0.4534259503700334]</td>\n",
       "    </tr>\n",
       "    <tr>\n",
       "      <th>4</th>\n",
       "      <td>0</td>\n",
       "      <td>0</td>\n",
       "      <td>[0.4985993128881488]</td>\n",
       "    </tr>\n",
       "    <tr>\n",
       "      <th>...</th>\n",
       "      <td>...</td>\n",
       "      <td>...</td>\n",
       "      <td>...</td>\n",
       "    </tr>\n",
       "    <tr>\n",
       "      <th>1995</th>\n",
       "      <td>1</td>\n",
       "      <td>0</td>\n",
       "      <td>[0.45846509541377056]</td>\n",
       "    </tr>\n",
       "    <tr>\n",
       "      <th>1996</th>\n",
       "      <td>1</td>\n",
       "      <td>1</td>\n",
       "      <td>[0.5207736865066209]</td>\n",
       "    </tr>\n",
       "    <tr>\n",
       "      <th>1997</th>\n",
       "      <td>0</td>\n",
       "      <td>0</td>\n",
       "      <td>[0.49303640375531266]</td>\n",
       "    </tr>\n",
       "    <tr>\n",
       "      <th>1998</th>\n",
       "      <td>0</td>\n",
       "      <td>1</td>\n",
       "      <td>[0.5119303963497269]</td>\n",
       "    </tr>\n",
       "    <tr>\n",
       "      <th>1999</th>\n",
       "      <td>0</td>\n",
       "      <td>0</td>\n",
       "      <td>[0.48769498074125117]</td>\n",
       "    </tr>\n",
       "  </tbody>\n",
       "</table>\n",
       "<p>2000 rows × 3 columns</p>\n",
       "</div>"
      ],
      "text/plain": [
       "      Actual  Prediction                 Result\n",
       "0          0           1    [0.531697769448731]\n",
       "1          0           1   [0.5340514437302829]\n",
       "2          1           1   [0.5186724718321121]\n",
       "3          0           0   [0.4534259503700334]\n",
       "4          0           0   [0.4985993128881488]\n",
       "...      ...         ...                    ...\n",
       "1995       1           0  [0.45846509541377056]\n",
       "1996       1           1   [0.5207736865066209]\n",
       "1997       0           0  [0.49303640375531266]\n",
       "1998       0           1   [0.5119303963497269]\n",
       "1999       0           0  [0.48769498074125117]\n",
       "\n",
       "[2000 rows x 3 columns]"
      ]
     },
     "execution_count": 73,
     "metadata": {},
     "output_type": "execute_result"
    }
   ],
   "source": [
    "output['Result'] = result\n",
    "output"
   ]
  },
  {
   "cell_type": "markdown",
   "id": "af067adc",
   "metadata": {},
   "source": [
    "## Scaling data"
   ]
  },
  {
   "cell_type": "code",
   "execution_count": 81,
   "id": "860c49be",
   "metadata": {
    "scrolled": true
   },
   "outputs": [
    {
     "data": {
      "text/plain": [
       "array([[ 0.02108699,  0.0175106 ,  0.0247538 ,  0.02341712],\n",
       "       [ 0.02065773,  0.01350298,  0.01631589,  0.02155697],\n",
       "       [ 0.02337638,  0.01350298, -0.00785372, -0.0173631 ],\n",
       "       ...,\n",
       "       [-0.9300142 , -0.93530112, -0.92315269, -0.92769199],\n",
       "       [-0.92729554, -0.93472861, -0.93874138, -0.93584803],\n",
       "       [-0.93631004, -0.94145568, -0.92901633, -0.93398788]])"
      ]
     },
     "execution_count": 81,
     "metadata": {},
     "output_type": "execute_result"
    }
   ],
   "source": [
    "scaler = StandardScaler()\n",
    "scaler.fit_transform(X)"
   ]
  },
  {
   "cell_type": "markdown",
   "id": "413ebb4d",
   "metadata": {},
   "source": [
    "## Logistic Regression(on scaled data)"
   ]
  },
  {
   "cell_type": "code",
   "execution_count": 84,
   "id": "d6c04078",
   "metadata": {},
   "outputs": [
    {
     "data": {
      "text/plain": [
       "0.5455"
      ]
     },
     "execution_count": 84,
     "metadata": {},
     "output_type": "execute_result"
    }
   ],
   "source": [
    "X_train2, X_test2, y_train2, y_test2 = train_test_split(X, y, test_size=0.2)\n",
    "model2 = lgr().fit(X_train2, y_train2)\n",
    "model2.score(X_train2, y_train2)"
   ]
  },
  {
   "cell_type": "code",
   "execution_count": 85,
   "id": "17acbb98",
   "metadata": {},
   "outputs": [
    {
     "data": {
      "text/plain": [
       "0.531"
      ]
     },
     "execution_count": 85,
     "metadata": {},
     "output_type": "execute_result"
    }
   ],
   "source": [
    "model2.score(X_test2, y_test2)"
   ]
  },
  {
   "cell_type": "code",
   "execution_count": 107,
   "id": "740cfacf",
   "metadata": {
    "scrolled": true
   },
   "outputs": [
    {
     "data": {
      "text/html": [
       "<div>\n",
       "<style scoped>\n",
       "    .dataframe tbody tr th:only-of-type {\n",
       "        vertical-align: middle;\n",
       "    }\n",
       "\n",
       "    .dataframe tbody tr th {\n",
       "        vertical-align: top;\n",
       "    }\n",
       "\n",
       "    .dataframe thead th {\n",
       "        text-align: right;\n",
       "    }\n",
       "</style>\n",
       "<table border=\"1\" class=\"dataframe\">\n",
       "  <thead>\n",
       "    <tr style=\"text-align: right;\">\n",
       "      <th></th>\n",
       "      <th>Actual</th>\n",
       "      <th>Prediction</th>\n",
       "      <th>Result</th>\n",
       "      <th>Confidence</th>\n",
       "    </tr>\n",
       "  </thead>\n",
       "  <tbody>\n",
       "    <tr>\n",
       "      <th>0</th>\n",
       "      <td>0</td>\n",
       "      <td>1</td>\n",
       "      <td>[0.5049502613385091]</td>\n",
       "      <td>[0.0049502613385090655]</td>\n",
       "    </tr>\n",
       "    <tr>\n",
       "      <th>1</th>\n",
       "      <td>1</td>\n",
       "      <td>0</td>\n",
       "      <td>[0.48370943671715805]</td>\n",
       "      <td>[0.016290563282841952]</td>\n",
       "    </tr>\n",
       "    <tr>\n",
       "      <th>2</th>\n",
       "      <td>0</td>\n",
       "      <td>1</td>\n",
       "      <td>[0.5070016726265044]</td>\n",
       "      <td>[0.007001672626504418]</td>\n",
       "    </tr>\n",
       "    <tr>\n",
       "      <th>3</th>\n",
       "      <td>0</td>\n",
       "      <td>1</td>\n",
       "      <td>[0.5295146879564328]</td>\n",
       "      <td>[0.02951468795643275]</td>\n",
       "    </tr>\n",
       "    <tr>\n",
       "      <th>4</th>\n",
       "      <td>0</td>\n",
       "      <td>1</td>\n",
       "      <td>[0.5370319589879103]</td>\n",
       "      <td>[0.03703195898791034]</td>\n",
       "    </tr>\n",
       "    <tr>\n",
       "      <th>...</th>\n",
       "      <td>...</td>\n",
       "      <td>...</td>\n",
       "      <td>...</td>\n",
       "      <td>...</td>\n",
       "    </tr>\n",
       "    <tr>\n",
       "      <th>1995</th>\n",
       "      <td>1</td>\n",
       "      <td>1</td>\n",
       "      <td>[0.5054256598942677]</td>\n",
       "      <td>[0.005425659894267687]</td>\n",
       "    </tr>\n",
       "    <tr>\n",
       "      <th>1996</th>\n",
       "      <td>1</td>\n",
       "      <td>1</td>\n",
       "      <td>[0.5109748524698879]</td>\n",
       "      <td>[0.010974852469887941]</td>\n",
       "    </tr>\n",
       "    <tr>\n",
       "      <th>1997</th>\n",
       "      <td>1</td>\n",
       "      <td>1</td>\n",
       "      <td>[0.5793141416003307]</td>\n",
       "      <td>[0.07931414160033068]</td>\n",
       "    </tr>\n",
       "    <tr>\n",
       "      <th>1998</th>\n",
       "      <td>1</td>\n",
       "      <td>1</td>\n",
       "      <td>[0.505151738353478]</td>\n",
       "      <td>[0.005151738353478041]</td>\n",
       "    </tr>\n",
       "    <tr>\n",
       "      <th>1999</th>\n",
       "      <td>0</td>\n",
       "      <td>0</td>\n",
       "      <td>[0.490117219082771]</td>\n",
       "      <td>[0.009882780917228995]</td>\n",
       "    </tr>\n",
       "  </tbody>\n",
       "</table>\n",
       "<p>2000 rows × 4 columns</p>\n",
       "</div>"
      ],
      "text/plain": [
       "      Actual  Prediction                 Result               Confidence\n",
       "0          0           1   [0.5049502613385091]  [0.0049502613385090655]\n",
       "1          1           0  [0.48370943671715805]   [0.016290563282841952]\n",
       "2          0           1   [0.5070016726265044]   [0.007001672626504418]\n",
       "3          0           1   [0.5295146879564328]    [0.02951468795643275]\n",
       "4          0           1   [0.5370319589879103]    [0.03703195898791034]\n",
       "...      ...         ...                    ...                      ...\n",
       "1995       1           1   [0.5054256598942677]   [0.005425659894267687]\n",
       "1996       1           1   [0.5109748524698879]   [0.010974852469887941]\n",
       "1997       1           1   [0.5793141416003307]    [0.07931414160033068]\n",
       "1998       1           1    [0.505151738353478]   [0.005151738353478041]\n",
       "1999       0           0    [0.490117219082771]   [0.009882780917228995]\n",
       "\n",
       "[2000 rows x 4 columns]"
      ]
     },
     "execution_count": 107,
     "metadata": {},
     "output_type": "execute_result"
    }
   ],
   "source": [
    "pred2 = model2.predict(X_test2)\n",
    "data2 = [[list(y_test2)[i], pred2[i]] for i in range(len(pred2))]\n",
    "output2 = pd.DataFrame(data2, columns = ['Actual','Prediction'])\n",
    "w2 = model2.coef_\n",
    "b2 = model2.intercept_\n",
    "result2 = []\n",
    "diff2 = []\n",
    "for ind in range(len(X_test2)) :\n",
    "    row = np.dot(np.array(X_test2.iloc[ind,:]), np.array(w2.transpose()))\n",
    "    result2.append(sigmoid(b2 + row))\n",
    "    diff2.append(abs(sigmoid(b2 + row)-0.5))\n",
    "output2['Result'] = result2\n",
    "output2[\"Confidence\"] = diff2\n",
    "output2"
   ]
  },
  {
   "cell_type": "code",
   "execution_count": 149,
   "id": "497fdcca",
   "metadata": {},
   "outputs": [
    {
     "data": {
      "text/plain": [
       "array([[-0.10796319,  0.00343806, -0.00978997,  0.11431557]])"
      ]
     },
     "execution_count": 149,
     "metadata": {},
     "output_type": "execute_result"
    }
   ],
   "source": [
    "w2"
   ]
  },
  {
   "cell_type": "code",
   "execution_count": 148,
   "id": "74f6e353",
   "metadata": {},
   "outputs": [
    {
     "data": {
      "text/plain": [
       "array([0.00040732])"
      ]
     },
     "execution_count": 148,
     "metadata": {},
     "output_type": "execute_result"
    }
   ],
   "source": [
    "b2"
   ]
  },
  {
   "cell_type": "code",
   "execution_count": 108,
   "id": "ddf6fae5",
   "metadata": {
    "scrolled": false
   },
   "outputs": [
    {
     "data": {
      "text/html": [
       "<div>\n",
       "<style scoped>\n",
       "    .dataframe tbody tr th:only-of-type {\n",
       "        vertical-align: middle;\n",
       "    }\n",
       "\n",
       "    .dataframe tbody tr th {\n",
       "        vertical-align: top;\n",
       "    }\n",
       "\n",
       "    .dataframe thead th {\n",
       "        text-align: right;\n",
       "    }\n",
       "</style>\n",
       "<table border=\"1\" class=\"dataframe\">\n",
       "  <thead>\n",
       "    <tr style=\"text-align: right;\">\n",
       "      <th></th>\n",
       "      <th>Actual</th>\n",
       "      <th>Prediction</th>\n",
       "      <th>Result</th>\n",
       "      <th>Confidence</th>\n",
       "    </tr>\n",
       "  </thead>\n",
       "  <tbody>\n",
       "    <tr>\n",
       "      <th>270</th>\n",
       "      <td>0</td>\n",
       "      <td>0</td>\n",
       "      <td>[0.05265103594014174]</td>\n",
       "      <td>[0.44734896405985825]</td>\n",
       "    </tr>\n",
       "    <tr>\n",
       "      <th>930</th>\n",
       "      <td>1</td>\n",
       "      <td>1</td>\n",
       "      <td>[0.8924487454827384]</td>\n",
       "      <td>[0.39244874548273845]</td>\n",
       "    </tr>\n",
       "    <tr>\n",
       "      <th>1093</th>\n",
       "      <td>0</td>\n",
       "      <td>0</td>\n",
       "      <td>[0.21827386160210918]</td>\n",
       "      <td>[0.28172613839789085]</td>\n",
       "    </tr>\n",
       "    <tr>\n",
       "      <th>1528</th>\n",
       "      <td>0</td>\n",
       "      <td>1</td>\n",
       "      <td>[0.7503895696476458]</td>\n",
       "      <td>[0.2503895696476458]</td>\n",
       "    </tr>\n",
       "    <tr>\n",
       "      <th>42</th>\n",
       "      <td>1</td>\n",
       "      <td>0</td>\n",
       "      <td>[0.31690699372407655]</td>\n",
       "      <td>[0.18309300627592345]</td>\n",
       "    </tr>\n",
       "    <tr>\n",
       "      <th>...</th>\n",
       "      <td>...</td>\n",
       "      <td>...</td>\n",
       "      <td>...</td>\n",
       "      <td>...</td>\n",
       "    </tr>\n",
       "    <tr>\n",
       "      <th>1951</th>\n",
       "      <td>0</td>\n",
       "      <td>1</td>\n",
       "      <td>[0.50001906273983]</td>\n",
       "      <td>[1.9062739829989184e-05]</td>\n",
       "    </tr>\n",
       "    <tr>\n",
       "      <th>754</th>\n",
       "      <td>1</td>\n",
       "      <td>0</td>\n",
       "      <td>[0.4999812660815719]</td>\n",
       "      <td>[1.8733918428104346e-05]</td>\n",
       "    </tr>\n",
       "    <tr>\n",
       "      <th>1171</th>\n",
       "      <td>0</td>\n",
       "      <td>1</td>\n",
       "      <td>[0.5000080768563041]</td>\n",
       "      <td>[8.076856304106705e-06]</td>\n",
       "    </tr>\n",
       "    <tr>\n",
       "      <th>57</th>\n",
       "      <td>0</td>\n",
       "      <td>1</td>\n",
       "      <td>[0.5000073157251853]</td>\n",
       "      <td>[7.31572518530843e-06]</td>\n",
       "    </tr>\n",
       "    <tr>\n",
       "      <th>1541</th>\n",
       "      <td>0</td>\n",
       "      <td>1</td>\n",
       "      <td>[0.5000023318077363]</td>\n",
       "      <td>[2.331807736344338e-06]</td>\n",
       "    </tr>\n",
       "  </tbody>\n",
       "</table>\n",
       "<p>2000 rows × 4 columns</p>\n",
       "</div>"
      ],
      "text/plain": [
       "      Actual  Prediction                 Result                Confidence\n",
       "270        0           0  [0.05265103594014174]     [0.44734896405985825]\n",
       "930        1           1   [0.8924487454827384]     [0.39244874548273845]\n",
       "1093       0           0  [0.21827386160210918]     [0.28172613839789085]\n",
       "1528       0           1   [0.7503895696476458]      [0.2503895696476458]\n",
       "42         1           0  [0.31690699372407655]     [0.18309300627592345]\n",
       "...      ...         ...                    ...                       ...\n",
       "1951       0           1     [0.50001906273983]  [1.9062739829989184e-05]\n",
       "754        1           0   [0.4999812660815719]  [1.8733918428104346e-05]\n",
       "1171       0           1   [0.5000080768563041]   [8.076856304106705e-06]\n",
       "57         0           1   [0.5000073157251853]    [7.31572518530843e-06]\n",
       "1541       0           1   [0.5000023318077363]   [2.331807736344338e-06]\n",
       "\n",
       "[2000 rows x 4 columns]"
      ]
     },
     "execution_count": 108,
     "metadata": {},
     "output_type": "execute_result"
    }
   ],
   "source": [
    "output2.sort_values(by='Confidence', ascending = False)"
   ]
  },
  {
   "cell_type": "markdown",
   "id": "c7c1cc70",
   "metadata": {},
   "source": [
    "## Random Forest Classifer"
   ]
  },
  {
   "cell_type": "code",
   "execution_count": 127,
   "id": "24e97347",
   "metadata": {},
   "outputs": [
    {
     "data": {
      "text/plain": [
       "0.604125"
      ]
     },
     "execution_count": 127,
     "metadata": {},
     "output_type": "execute_result"
    }
   ],
   "source": [
    "X_train3, X_test3, y_train3, y_test3 = train_test_split(X, y, test_size=0.2)\n",
    "model3 = rfc(max_depth=5).fit(X_train3, y_train3)\n",
    "model3.score(X_train3, y_train3)"
   ]
  },
  {
   "cell_type": "code",
   "execution_count": 128,
   "id": "4ac61439",
   "metadata": {
    "scrolled": false
   },
   "outputs": [
    {
     "data": {
      "text/plain": [
       "0.569"
      ]
     },
     "execution_count": 128,
     "metadata": {},
     "output_type": "execute_result"
    }
   ],
   "source": [
    "model3.score(X_test, y_test)"
   ]
  },
  {
   "cell_type": "code",
   "execution_count": 129,
   "id": "01ca8bb2",
   "metadata": {},
   "outputs": [
    {
     "data": {
      "text/html": [
       "<div>\n",
       "<style scoped>\n",
       "    .dataframe tbody tr th:only-of-type {\n",
       "        vertical-align: middle;\n",
       "    }\n",
       "\n",
       "    .dataframe tbody tr th {\n",
       "        vertical-align: top;\n",
       "    }\n",
       "\n",
       "    .dataframe thead th {\n",
       "        text-align: right;\n",
       "    }\n",
       "</style>\n",
       "<table border=\"1\" class=\"dataframe\">\n",
       "  <thead>\n",
       "    <tr style=\"text-align: right;\">\n",
       "      <th></th>\n",
       "      <th>Actual</th>\n",
       "      <th>Prediction</th>\n",
       "    </tr>\n",
       "  </thead>\n",
       "  <tbody>\n",
       "    <tr>\n",
       "      <th>0</th>\n",
       "      <td>1</td>\n",
       "      <td>1</td>\n",
       "    </tr>\n",
       "    <tr>\n",
       "      <th>1</th>\n",
       "      <td>0</td>\n",
       "      <td>0</td>\n",
       "    </tr>\n",
       "    <tr>\n",
       "      <th>2</th>\n",
       "      <td>1</td>\n",
       "      <td>0</td>\n",
       "    </tr>\n",
       "    <tr>\n",
       "      <th>3</th>\n",
       "      <td>1</td>\n",
       "      <td>1</td>\n",
       "    </tr>\n",
       "    <tr>\n",
       "      <th>4</th>\n",
       "      <td>1</td>\n",
       "      <td>0</td>\n",
       "    </tr>\n",
       "    <tr>\n",
       "      <th>...</th>\n",
       "      <td>...</td>\n",
       "      <td>...</td>\n",
       "    </tr>\n",
       "    <tr>\n",
       "      <th>1995</th>\n",
       "      <td>0</td>\n",
       "      <td>0</td>\n",
       "    </tr>\n",
       "    <tr>\n",
       "      <th>1996</th>\n",
       "      <td>1</td>\n",
       "      <td>0</td>\n",
       "    </tr>\n",
       "    <tr>\n",
       "      <th>1997</th>\n",
       "      <td>0</td>\n",
       "      <td>1</td>\n",
       "    </tr>\n",
       "    <tr>\n",
       "      <th>1998</th>\n",
       "      <td>1</td>\n",
       "      <td>1</td>\n",
       "    </tr>\n",
       "    <tr>\n",
       "      <th>1999</th>\n",
       "      <td>1</td>\n",
       "      <td>0</td>\n",
       "    </tr>\n",
       "  </tbody>\n",
       "</table>\n",
       "<p>2000 rows × 2 columns</p>\n",
       "</div>"
      ],
      "text/plain": [
       "      Actual  Prediction\n",
       "0          1           1\n",
       "1          0           0\n",
       "2          1           0\n",
       "3          1           1\n",
       "4          1           0\n",
       "...      ...         ...\n",
       "1995       0           0\n",
       "1996       1           0\n",
       "1997       0           1\n",
       "1998       1           1\n",
       "1999       1           0\n",
       "\n",
       "[2000 rows x 2 columns]"
      ]
     },
     "execution_count": 129,
     "metadata": {},
     "output_type": "execute_result"
    }
   ],
   "source": [
    "pred3 = model3.predict(X_test3)\n",
    "data3 = [[list(y_test3)[i], pred3[i]] for i in range(len(pred3))]\n",
    "output3 = pd.DataFrame(data3, columns = ['Actual','Prediction'])\n",
    "output3"
   ]
  },
  {
   "cell_type": "code",
   "execution_count": 130,
   "id": "a32d1230",
   "metadata": {},
   "outputs": [
    {
     "data": {
      "text/html": [
       "<div>\n",
       "<style scoped>\n",
       "    .dataframe tbody tr th:only-of-type {\n",
       "        vertical-align: middle;\n",
       "    }\n",
       "\n",
       "    .dataframe tbody tr th {\n",
       "        vertical-align: top;\n",
       "    }\n",
       "\n",
       "    .dataframe thead th {\n",
       "        text-align: right;\n",
       "    }\n",
       "</style>\n",
       "<table border=\"1\" class=\"dataframe\">\n",
       "  <thead>\n",
       "    <tr style=\"text-align: right;\">\n",
       "      <th></th>\n",
       "      <th>Actual</th>\n",
       "      <th>Prediction</th>\n",
       "    </tr>\n",
       "  </thead>\n",
       "  <tbody>\n",
       "    <tr>\n",
       "      <th>0</th>\n",
       "      <td>0</td>\n",
       "      <td>0</td>\n",
       "    </tr>\n",
       "    <tr>\n",
       "      <th>1</th>\n",
       "      <td>1</td>\n",
       "      <td>1</td>\n",
       "    </tr>\n",
       "    <tr>\n",
       "      <th>2</th>\n",
       "      <td>0</td>\n",
       "      <td>1</td>\n",
       "    </tr>\n",
       "    <tr>\n",
       "      <th>3</th>\n",
       "      <td>0</td>\n",
       "      <td>0</td>\n",
       "    </tr>\n",
       "    <tr>\n",
       "      <th>4</th>\n",
       "      <td>1</td>\n",
       "      <td>1</td>\n",
       "    </tr>\n",
       "    <tr>\n",
       "      <th>...</th>\n",
       "      <td>...</td>\n",
       "      <td>...</td>\n",
       "    </tr>\n",
       "    <tr>\n",
       "      <th>7995</th>\n",
       "      <td>0</td>\n",
       "      <td>1</td>\n",
       "    </tr>\n",
       "    <tr>\n",
       "      <th>7996</th>\n",
       "      <td>1</td>\n",
       "      <td>1</td>\n",
       "    </tr>\n",
       "    <tr>\n",
       "      <th>7997</th>\n",
       "      <td>1</td>\n",
       "      <td>1</td>\n",
       "    </tr>\n",
       "    <tr>\n",
       "      <th>7998</th>\n",
       "      <td>1</td>\n",
       "      <td>1</td>\n",
       "    </tr>\n",
       "    <tr>\n",
       "      <th>7999</th>\n",
       "      <td>0</td>\n",
       "      <td>0</td>\n",
       "    </tr>\n",
       "  </tbody>\n",
       "</table>\n",
       "<p>8000 rows × 2 columns</p>\n",
       "</div>"
      ],
      "text/plain": [
       "      Actual  Prediction\n",
       "0          0           0\n",
       "1          1           1\n",
       "2          0           1\n",
       "3          0           0\n",
       "4          1           1\n",
       "...      ...         ...\n",
       "7995       0           1\n",
       "7996       1           1\n",
       "7997       1           1\n",
       "7998       1           1\n",
       "7999       0           0\n",
       "\n",
       "[8000 rows x 2 columns]"
      ]
     },
     "execution_count": 130,
     "metadata": {},
     "output_type": "execute_result"
    }
   ],
   "source": [
    "pred3_train = model3.predict(X_train3)\n",
    "data3_train = [[list(y_train3)[i], pred3_train[i]] for i in range(len(pred3_train))]\n",
    "output3_train = pd.DataFrame(data3_train, columns = ['Actual','Prediction'])\n",
    "output3_train"
   ]
  },
  {
   "cell_type": "code",
   "execution_count": 131,
   "id": "cedb8d33",
   "metadata": {},
   "outputs": [
    {
     "data": {
      "text/plain": [
       "0.4645"
      ]
     },
     "execution_count": 131,
     "metadata": {},
     "output_type": "execute_result"
    }
   ],
   "source": [
    "len(output3[output3['Actual']==output3['Prediction']])/len(output3)"
   ]
  },
  {
   "cell_type": "code",
   "execution_count": 132,
   "id": "ca9c6b22",
   "metadata": {
    "scrolled": true
   },
   "outputs": [
    {
     "data": {
      "text/plain": [
       "0.604125"
      ]
     },
     "execution_count": 132,
     "metadata": {},
     "output_type": "execute_result"
    }
   ],
   "source": [
    "len(output3_train[output3_train['Actual']==output3_train['Prediction']])/len(output3_train)"
   ]
  },
  {
   "cell_type": "code",
   "execution_count": 140,
   "id": "32c13520",
   "metadata": {},
   "outputs": [],
   "source": [
    "acc = []\n",
    "acc_tr = []\n",
    "for i in range(1,11) :\n",
    "    X_train3, X_test3, y_train3, y_test3 = train_test_split(X, y, test_size=0.2)\n",
    "    model3 = rfc(max_depth=i).fit(X_train3, y_train3)\n",
    "    pred3 = model3.predict(X_test3)\n",
    "    data3 = [[list(y_test3)[i], pred3[i]] for i in range(len(pred3))]\n",
    "    output3 = pd.DataFrame(data3, columns = ['Actual','Prediction'])\n",
    "    pred3_train = model3.predict(X_train3)\n",
    "    data3_train = [[list(y_train3)[i], pred3_train[i]] for i in range(len(pred3_train))]\n",
    "    output3_train = pd.DataFrame(data3_train, columns = ['Actual','Prediction'])\n",
    "    acc.append(len(output3[output3['Actual']==output3['Prediction']])/len(output3))\n",
    "    acc_tr.append(len(output3_train[output3_train['Actual']==output3_train['Prediction']])/len(output3_train))"
   ]
  },
  {
   "cell_type": "code",
   "execution_count": 143,
   "id": "9aa56446",
   "metadata": {
    "scrolled": true
   },
   "outputs": [
    {
     "name": "stderr",
     "output_type": "stream",
     "text": [
      "<ipython-input-143-148fd43f1a78>:3: UserWarning: Legend does not support 'T' instances.\n",
      "A proxy artist may be used instead.\n",
      "See: https://matplotlib.org/users/legend_guide.html#creating-artists-specifically-for-adding-to-the-legend-aka-proxy-artists\n",
      "  plt.legend('Test','Train')\n",
      "<ipython-input-143-148fd43f1a78>:3: UserWarning: Legend does not support 'e' instances.\n",
      "A proxy artist may be used instead.\n",
      "See: https://matplotlib.org/users/legend_guide.html#creating-artists-specifically-for-adding-to-the-legend-aka-proxy-artists\n",
      "  plt.legend('Test','Train')\n",
      "<ipython-input-143-148fd43f1a78>:3: UserWarning: Legend does not support 's' instances.\n",
      "A proxy artist may be used instead.\n",
      "See: https://matplotlib.org/users/legend_guide.html#creating-artists-specifically-for-adding-to-the-legend-aka-proxy-artists\n",
      "  plt.legend('Test','Train')\n",
      "<ipython-input-143-148fd43f1a78>:3: UserWarning: Legend does not support 't' instances.\n",
      "A proxy artist may be used instead.\n",
      "See: https://matplotlib.org/users/legend_guide.html#creating-artists-specifically-for-adding-to-the-legend-aka-proxy-artists\n",
      "  plt.legend('Test','Train')\n"
     ]
    },
    {
     "data": {
      "text/plain": [
       "<matplotlib.legend.Legend at 0x161a8fbeb50>"
      ]
     },
     "execution_count": 143,
     "metadata": {},
     "output_type": "execute_result"
    },
    {
     "data": {
      "image/png": "[encoded data removed]",
      "text/plain": [
       "<Figure size 432x288 with 1 Axes>"
      ]
     },
     "metadata": {
      "needs_background": "light"
     },
     "output_type": "display_data"
    }
   ],
   "source": [
    "plt.plot(acc)\n",
    "plt.plot(acc_tr)"
   ]
  },
  {
   "cell_type": "markdown",
   "id": "5e9ec0e1",
   "metadata": {},
   "source": [
    "## Gradient Boosting Classifier"
   ]
  },
  {
   "cell_type": "code",
   "execution_count": 145,
   "id": "5cac2bfc",
   "metadata": {},
   "outputs": [],
   "source": [
    "acc = []\n",
    "acc_tr = []\n",
    "for i in range(50,150,10) :\n",
    "    X_train4, X_test4, y_train4, y_test4 = train_test_split(X, y, test_size=0.2)\n",
    "    model4 = gbc(n_estimators=i).fit(X_train4, y_train4)\n",
    "    pred4 = model4.predict(X_test4)\n",
    "    data4 = [[list(y_test4)[i], pred4[i]] for i in range(len(pred4))]\n",
    "    output4 = pd.DataFrame(data4, columns = ['Actual','Prediction'])\n",
    "    pred4_train = model4.predict(X_train4)\n",
    "    data4_train = [[list(y_train4)[i], pred4_train[i]] for i in range(len(pred4_train))]\n",
    "    output4_train = pd.DataFrame(data4_train, columns = ['Actual','Prediction'])\n",
    "    acc.append(len(output4[output4['Actual']==output4['Prediction']])/len(output4))\n",
    "    acc_tr.append(len(output4_train[output4_train['Actual']==output4_train['Prediction']])/len(output4_train))"
   ]
  },
  {
   "cell_type": "code",
   "execution_count": 146,
   "id": "3d959f5c",
   "metadata": {},
   "outputs": [
    {
     "name": "stderr",
     "output_type": "stream",
     "text": [
      "<ipython-input-146-148fd43f1a78>:3: UserWarning: Legend does not support 'T' instances.\n",
      "A proxy artist may be used instead.\n",
      "See: https://matplotlib.org/users/legend_guide.html#creating-artists-specifically-for-adding-to-the-legend-aka-proxy-artists\n",
      "  plt.legend('Test','Train')\n",
      "<ipython-input-146-148fd43f1a78>:3: UserWarning: Legend does not support 'e' instances.\n",
      "A proxy artist may be used instead.\n",
      "See: https://matplotlib.org/users/legend_guide.html#creating-artists-specifically-for-adding-to-the-legend-aka-proxy-artists\n",
      "  plt.legend('Test','Train')\n",
      "<ipython-input-146-148fd43f1a78>:3: UserWarning: Legend does not support 's' instances.\n",
      "A proxy artist may be used instead.\n",
      "See: https://matplotlib.org/users/legend_guide.html#creating-artists-specifically-for-adding-to-the-legend-aka-proxy-artists\n",
      "  plt.legend('Test','Train')\n",
      "<ipython-input-146-148fd43f1a78>:3: UserWarning: Legend does not support 't' instances.\n",
      "A proxy artist may be used instead.\n",
      "See: https://matplotlib.org/users/legend_guide.html#creating-artists-specifically-for-adding-to-the-legend-aka-proxy-artists\n",
      "  plt.legend('Test','Train')\n"
     ]
    },
    {
     "data": {
      "text/plain": [
       "<matplotlib.legend.Legend at 0x161a90ee2b0>"
      ]
     },
     "execution_count": 146,
     "metadata": {},
     "output_type": "execute_result"
    },
    {
     "data": {
      "image/png": "[encoded data removed]",
      "text/plain": [
       "<Figure size 432x288 with 1 Axes>"
      ]
     },
     "metadata": {
      "needs_background": "light"
     },
     "output_type": "display_data"
    }
   ],
   "source": [
    "plt.plot(acc)\n",
    "plt.plot(acc_tr)\n",
    "plt.legend('Test','Train')"
   ]
  },
  {
   "cell_type": "code",
   "execution_count": 152,
   "id": "8d1eac9a",
   "metadata": {},
   "outputs": [],
   "source": [
    "pickle.dump(model2, open('Final Model', 'wb'))"
   ]
  },
  {
   "cell_type": "code",
   "execution_count": null,
   "id": "cd3c3456",
   "metadata": {},
   "outputs": [],
   "source": []
  }
 ],
 "metadata": {
  "kernelspec": {
   "display_name": "Python 3",
   "language": "python",
   "name": "python3"
  },
  "language_info": {
   "codemirror_mode": {
    "name": "ipython",
    "version": 3
   },
   "file_extension": ".py",
   "mimetype": "text/x-python",
   "name": "python",
   "nbconvert_exporter": "python",
   "pygments_lexer": "ipython3",
   "version": "3.8.8"
  }
 },
 "nbformat": 4,
 "nbformat_minor": 5
}
